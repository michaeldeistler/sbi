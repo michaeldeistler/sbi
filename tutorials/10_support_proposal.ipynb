{
 "cells": [
  {
   "cell_type": "markdown",
   "id": "43eb4cdb-962e-422d-9714-42704ca3e047",
   "metadata": {},
   "source": [
    "# Tutorial on prior matching proposals"
   ]
  },
  {
   "cell_type": "code",
   "execution_count": 1,
   "id": "525bbbed",
   "metadata": {},
   "outputs": [],
   "source": [
    "%load_ext autoreload\n",
    "%autoreload 2"
   ]
  },
  {
   "cell_type": "code",
   "execution_count": 1,
   "id": "c15493c0",
   "metadata": {},
   "outputs": [],
   "source": [
    "from sbi.inference import SNLE_A, SNPE\n",
    "from sbi.utils import BoxUniform, posterior_nn\n",
    "from sbi.analysis import pairplot\n",
    "import torch\n",
    "from torch import ones, zeros\n",
    "import matplotlib.pyplot as plt\n",
    "from torch.distributions import MultivariateNormal\n",
    "from sbi.utils import PriorMatchingProposal\n",
    "from copy import deepcopy"
   ]
  },
  {
   "cell_type": "code",
   "execution_count": 2,
   "id": "35e24141",
   "metadata": {},
   "outputs": [],
   "source": [
    "num_dim = 2\n",
    "prior = BoxUniform(-2*ones(num_dim), 2*ones(num_dim))"
   ]
  },
  {
   "cell_type": "code",
   "execution_count": 3,
   "id": "80fa85d6",
   "metadata": {},
   "outputs": [],
   "source": [
    "def simulator(theta):\n",
    "    return theta + 0.2*torch.randn(theta.shape[0], num_dim)"
   ]
  },
  {
   "cell_type": "code",
   "execution_count": 4,
   "id": "7d2fee71",
   "metadata": {},
   "outputs": [],
   "source": [
    "theta_ = prior.sample((1000,))\n",
    "x_ = simulator(theta_)"
   ]
  },
  {
   "cell_type": "code",
   "execution_count": 5,
   "id": "86a6712f",
   "metadata": {},
   "outputs": [],
   "source": [
    "xo = zeros(2)"
   ]
  },
  {
   "cell_type": "code",
   "execution_count": 6,
   "id": "98f0a915",
   "metadata": {},
   "outputs": [],
   "source": [
    "density_estimator = posterior_nn(\"maf\", z_score_theta=False, z_score_x=False)"
   ]
  },
  {
   "cell_type": "code",
   "execution_count": 7,
   "id": "574c984e",
   "metadata": {},
   "outputs": [
    {
     "name": "stdout",
     "output_type": "stream",
     "text": [
      "Training neural network. Epochs trained:  101\r"
     ]
    }
   ],
   "source": [
    "inference = SNPE(prior=prior, density_estimator=density_estimator)\n",
    "_ = inference.append_simulations(theta_, x_).train(max_num_epochs=100)"
   ]
  },
  {
   "cell_type": "code",
   "execution_count": 8,
   "id": "bcc37283",
   "metadata": {},
   "outputs": [],
   "source": [
    "posterior = inference.build_posterior().set_default_x(xo)"
   ]
  },
  {
   "cell_type": "code",
   "execution_count": 9,
   "id": "e648f1bb-e1db-4f77-ad5c-2de3ac3c5c87",
   "metadata": {},
   "outputs": [],
   "source": [
    "saved_posterior = deepcopy(posterior)"
   ]
  },
  {
   "cell_type": "code",
   "execution_count": 10,
   "id": "e86d01ca-f9a2-4bf2-980c-912d25fef5b5",
   "metadata": {},
   "outputs": [
    {
     "data": {
      "application/vnd.jupyter.widget-view+json": {
       "model_id": "7172a3e9b2b24a8085c2309c5a7aa3fe",
       "version_major": 2,
       "version_minor": 0
      },
      "text/plain": [
       "Drawing 10000 posterior samples:   0%|          | 0/10000 [00:00<?, ?it/s]"
      ]
     },
     "metadata": {},
     "output_type": "display_data"
    },
    {
     "name": "stdout",
     "output_type": "stream",
     "text": [
      "Training neural network. Epochs trained:  149\r"
     ]
    }
   ],
   "source": [
    "pmp = saved_posterior.build_prior_matching_proposal()"
   ]
  },
  {
   "cell_type": "code",
   "execution_count": 11,
   "id": "f8e9da41-e0d0-479c-b219-7fd27fd754c0",
   "metadata": {},
   "outputs": [],
   "source": [
    "pmp_samples = pmp.sample((1000,))"
   ]
  },
  {
   "cell_type": "code",
   "execution_count": 12,
   "id": "ad7a022e-d152-4b05-973f-b1483da7aeee",
   "metadata": {},
   "outputs": [
    {
     "data": {
      "image/png": "[encoded data removed]",
      "text/plain": [
       "<Figure size 288x288 with 4 Axes>"
      ]
     },
     "metadata": {
      "needs_background": "light"
     },
     "output_type": "display_data"
    }
   ],
   "source": [
    "_ = pairplot(pmp_samples, limits=[[-2,2], [-2,2]], figsize=(4,4))"
   ]
  }
 ],
 "metadata": {
  "kernelspec": {
   "display_name": "md_sbi",
   "language": "python",
   "name": "md_sbi"
  },
  "language_info": {
   "codemirror_mode": {
    "name": "ipython",
    "version": 3
   },
   "file_extension": ".py",
   "mimetype": "text/x-python",
   "name": "python",
   "nbconvert_exporter": "python",
   "pygments_lexer": "ipython3",
   "version": "3.8.8"
  }
 },
 "nbformat": 4,
 "nbformat_minor": 5
}
